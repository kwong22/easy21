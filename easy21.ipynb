{
 "cells": [
  {
   "cell_type": "code",
   "execution_count": 196,
   "metadata": {},
   "outputs": [],
   "source": [
    "import numpy as np\n",
    "from mpl_toolkits import mplot3d\n",
    "import matplotlib.pyplot as plt\n",
    "\n",
    "%matplotlib inline"
   ]
  },
  {
   "cell_type": "markdown",
   "metadata": {},
   "source": [
    "# Implementation of Easy21"
   ]
  },
  {
   "cell_type": "code",
   "execution_count": 2,
   "metadata": {},
   "outputs": [],
   "source": [
    "def draw_card():\n",
    "    \"\"\"\n",
    "    Draw a card from the deck, with replacement.\n",
    "    \n",
    "    Returns a tuple of:\n",
    "    - value: an integer between 1 and 10 (uniformly distributed)\n",
    "    - color: 'red' (probability 1/3) or 'black' (probability 2/3)\n",
    "    \"\"\"\n",
    "    min_val = 1\n",
    "    max_val = 10\n",
    "    prob_red = 1/3\n",
    "    \n",
    "    # Randomly choose value between min_val and max_val, inclusive\n",
    "    value = np.random.randint(min_val, max_val + 1)\n",
    "    \n",
    "    # Choose 'red' color with probability prob_red, otherwise 'black'\n",
    "    sample = np.random.rand()\n",
    "    color = None\n",
    "    if sample < prob_red:\n",
    "        color = 'red'\n",
    "    else:\n",
    "        color = 'black'\n",
    "    \n",
    "    return (value, color)"
   ]
  },
  {
   "cell_type": "code",
   "execution_count": 6,
   "metadata": {},
   "outputs": [],
   "source": [
    "def card_to_int(card):\n",
    "    \"\"\"\n",
    "    Convert a card to its integer equivalent.\n",
    "    If the card is black, then its value is taken as is.\n",
    "    If the card is red, then its value is negated.\n",
    "    \n",
    "    Inputs:\n",
    "    - card: a tuple of value and color\n",
    "    \n",
    "    Returns:\n",
    "    - int_value: the integer value of the card\n",
    "    \"\"\"\n",
    "    value, color = card\n",
    "    \n",
    "    int_value = None\n",
    "    if color == 'black':\n",
    "        int_value = value\n",
    "    elif color == 'red':\n",
    "        int_value = -value\n",
    "    else:\n",
    "        raise ValueError('Invalid color %s' % color)\n",
    "    \n",
    "    return int_value"
   ]
  },
  {
   "cell_type": "code",
   "execution_count": 12,
   "metadata": {},
   "outputs": [],
   "source": [
    "def get_card():\n",
    "    \"\"\"\n",
    "    Draw a card and get its integer value.\n",
    "    \n",
    "    Returns:\n",
    "    - integer value of a randomly drawn card\n",
    "    \"\"\"\n",
    "    return card_to_int(draw_card())"
   ]
  },
  {
   "cell_type": "code",
   "execution_count": 25,
   "metadata": {},
   "outputs": [],
   "source": [
    "def check_card_sum(card_sum):\n",
    "    \"\"\"\n",
    "    Check that the card sum is still valid (between 1 and 21, inclusive)\n",
    "    \n",
    "    Returns:\n",
    "    - valid: True if the card sum is valid, False otherwise\n",
    "    \"\"\"\n",
    "    min_val = 1\n",
    "    max_val = 21\n",
    "    return (card_sum >= min_val) & (card_sum <= max_val)"
   ]
  },
  {
   "cell_type": "code",
   "execution_count": 242,
   "metadata": {},
   "outputs": [],
   "source": [
    "def step(state, action):\n",
    "    \"\"\"\n",
    "    Take a single step in the game Easy21.\n",
    "    \n",
    "    Inputs:\n",
    "    - state: state containing dealer's first card and player's sum, not 'terminal'\n",
    "    - action: 'hit' or 'stick'\n",
    "    \n",
    "    Returns a tuple of:\n",
    "    - next_state: sample of the next state, may be 'terminal'\n",
    "    - reward: 1 for win, -1 for loss, 0 for draw\n",
    "    \"\"\"\n",
    "    dealer_sum, player_sum = state\n",
    "    \n",
    "    if action == 'hit':\n",
    "        # Draw another card, add its value to the sum\n",
    "        player_sum += get_card()\n",
    "        \n",
    "        # If sum is not valid, end the game\n",
    "        if not check_card_sum(player_sum):\n",
    "            return ('terminal', -1)\n",
    "    elif action == 'stick':\n",
    "        # Dealer starts taking turns, sticks on sum >= 17, hits otherwise\n",
    "        # During this process, does dealer go bust if sum < 1?\n",
    "        while dealer_sum < 17:\n",
    "            dealer_sum += get_card()\n",
    "        \n",
    "        # Check if dealer went bust\n",
    "        if not check_card_sum(dealer_sum):\n",
    "            return ('terminal', 1)\n",
    "        \n",
    "        # Check who has the largest sum\n",
    "        if player_sum > dealer_sum:\n",
    "            return ('terminal', 1) # win\n",
    "        elif player_sum < dealer_sum:\n",
    "            return ('terminal', -1) # loss\n",
    "        else:\n",
    "            return ('terminal', 0) # draw\n",
    "    else:\n",
    "        raise ValueError('Invalid action %s' % action)\n",
    "    \n",
    "    # Continue game, no intermediate reward\n",
    "    return (dealer_sum, player_sum), 0"
   ]
  },
  {
   "cell_type": "code",
   "execution_count": 238,
   "metadata": {},
   "outputs": [
    {
     "data": {
      "text/plain": [
       "((3, 14), 0)"
      ]
     },
     "execution_count": 238,
     "metadata": {},
     "output_type": "execute_result"
    }
   ],
   "source": [
    "step((3, 10), 'hit')"
   ]
  },
  {
   "cell_type": "code",
   "execution_count": 239,
   "metadata": {},
   "outputs": [
    {
     "data": {
      "text/plain": [
       "('terminal', -1)"
      ]
     },
     "execution_count": 239,
     "metadata": {},
     "output_type": "execute_result"
    }
   ],
   "source": [
    "step((3, 18), 'hit')"
   ]
  },
  {
   "cell_type": "code",
   "execution_count": 247,
   "metadata": {},
   "outputs": [
    {
     "data": {
      "text/plain": [
       "('terminal', 1)"
      ]
     },
     "execution_count": 247,
     "metadata": {},
     "output_type": "execute_result"
    }
   ],
   "source": [
    "step((3, 18), 'stick')"
   ]
  },
  {
   "cell_type": "markdown",
   "metadata": {},
   "source": [
    "# Monte-Carlo Control in Easy21\n",
    "Apply Monte-Carlo control to determine the optimal value function.\n",
    "\n",
    "For every episode, perform Monte-Carlo policy evaluation (one step) and epsilon-Greedy policy improvement.\n",
    "\n",
    "## Monte-Carlo policy evaluation\n",
    "For each state $S_t$ and action $A_t$ in the episode,\n",
    "\n",
    "$$N(S_t, A_t) \\leftarrow N(S_t, A_t) + 1$$\n",
    "\n",
    "$$Q(S_t, A_t) \\leftarrow Q(S_t, A_t) + \\frac{1}{N(S_t, A_t)}(G_t - Q(S_t, A_t))$$\n",
    "\n",
    "## $\\epsilon$-Greedy policy improvement\n",
    "Within each episode, follow an $\\epsilon$-greed exploration strategy with $\\epsilon_t = N_0/(N_0 + N(s_t))$, where $N_0 = 100$ and $N(s)$ is the number of times that state $s$ has been visited.\n",
    "\n",
    "With probability $\\epsilon_t$, choose an action at random (for exploration). Otherwise, choose the action with greater action-value, $\\underset{a}{\\operatorname{argmax}} Q(s, a)$."
   ]
  },
  {
   "cell_type": "code",
   "execution_count": 118,
   "metadata": {},
   "outputs": [],
   "source": [
    "def run_episode(q):\n",
    "    \"\"\"\n",
    "    Run an episode (to termination) of Easy21, following epsilon-greedy policy wrt value function.\n",
    "    \n",
    "    Inputs:\n",
    "    - q: action-value function, matrix of size (N, M, A)\n",
    "        N is number of possible dealer sums\n",
    "        M is number of possible player sums\n",
    "        A is number of possible actions\n",
    "    \n",
    "    Returns:\n",
    "    - steps: list of the steps (state, action, reward, next state) taken in the episode\n",
    "    \"\"\"\n",
    "    N, M, A = q.shape\n",
    "    \n",
    "    steps = []\n",
    "    \n",
    "    # At start of episode, dealer and player each draw one black card\n",
    "    dealer_sum, player_sum = np.abs(get_card()), np.abs(get_card())\n",
    "    state = (dealer_sum, player_sum)\n",
    "    \n",
    "    actions = ['hit', 'stick']\n",
    "    \n",
    "    N0 = 100 # initial count\n",
    "    N_S = np.zeros((N, M)) # running count of states encountered\n",
    "    \n",
    "    while state != 'terminal':\n",
    "        dsum, psum = state\n",
    "        \n",
    "        N_S[dsum-1, psum-1] += 1 # increment count for current state\n",
    "        \n",
    "        # Follow epsilon-greedy policy\n",
    "        # calculate probability of choosing random action, for exploration\n",
    "        eps = N0 / (N0 + N_S[dsum-1, psum-1])\n",
    "        \n",
    "        # sample random probability\n",
    "        sample = np.random.rand()\n",
    "        \n",
    "        action = None\n",
    "        if sample < eps:\n",
    "            # Sample action randomly\n",
    "            action = actions[np.random.randint(len(actions))]\n",
    "        else:\n",
    "            # Choose greedy action\n",
    "            action = actions[np.argmax(q[dsum-1, psum-1])]\n",
    "        \n",
    "        new_state, reward = step(state, action)\n",
    "        \n",
    "        # Add step to the list of steps\n",
    "        steps.append((state, action, reward, new_state))\n",
    "        \n",
    "        state = new_state\n",
    "    \n",
    "    return steps"
   ]
  },
  {
   "cell_type": "code",
   "execution_count": 119,
   "metadata": {},
   "outputs": [
    {
     "data": {
      "text/plain": [
       "[((6, 4), 'stick', -1, 'terminal')]"
      ]
     },
     "execution_count": 119,
     "metadata": {},
     "output_type": "execute_result"
    }
   ],
   "source": [
    "q = np.zeros((10, 21, 2))\n",
    "run_episode(q)"
   ]
  },
  {
   "cell_type": "code",
   "execution_count": 77,
   "metadata": {},
   "outputs": [
    {
     "data": {
      "text/plain": [
       "[((6, 3), 'hit', 0, (6, 9)), ((6, 9), 'stick', -1, 'terminal')]"
      ]
     },
     "execution_count": 77,
     "metadata": {},
     "output_type": "execute_result"
    }
   ],
   "source": [
    "q = np.zeros((10, 21, 2))\n",
    "run_episode(q)"
   ]
  },
  {
   "cell_type": "code",
   "execution_count": 79,
   "metadata": {},
   "outputs": [
    {
     "data": {
      "text/plain": [
       "[((2, 8), 'stick', -1, 'terminal')]"
      ]
     },
     "execution_count": 79,
     "metadata": {},
     "output_type": "execute_result"
    }
   ],
   "source": [
    "q = np.random.rand(10, 21, 2)\n",
    "run_episode(q)"
   ]
  },
  {
   "cell_type": "code",
   "execution_count": 82,
   "metadata": {},
   "outputs": [
    {
     "data": {
      "text/plain": [
       "[((1, 1), 'hit', 0, (1, 2)),\n",
       " ((1, 2), 'hit', 0, (1, 5)),\n",
       " ((1, 5), 'hit', 0, (1, 10)),\n",
       " ((1, 10), 'hit', 0, (1, 16)),\n",
       " ((1, 16), 'hit', 0, (1, 9)),\n",
       " ((1, 9), 'stick', -1, 'terminal')]"
      ]
     },
     "execution_count": 82,
     "metadata": {},
     "output_type": "execute_result"
    }
   ],
   "source": [
    "q = np.random.rand(10, 21, 2)\n",
    "run_episode(q)"
   ]
  },
  {
   "cell_type": "code",
   "execution_count": 108,
   "metadata": {},
   "outputs": [
    {
     "name": "stdout",
     "output_type": "stream",
     "text": [
      "Iteration 2:\n",
      "[((8, 1), 'hit', 0, (8, 2)), ((8, 2), 'hit', 0, (8, 3)), ((8, 3), 'hit', 0, (8, 2)), ((8, 2), 'hit', 0, (8, 7)), ((8, 7), 'hit', 0, (8, 14)), ((8, 14), 'hit', 0, (8, 19)), ((8, 19), 'stick', 1, 'terminal')]\n"
     ]
    }
   ],
   "source": [
    "q = np.random.rand(10, 21, 2)\n",
    "t = 0\n",
    "while True:\n",
    "    t += 1\n",
    "    steps = run_episode(q)\n",
    "    _, _, reward, _ = steps[-1]\n",
    "    if reward > 0:\n",
    "        print('Iteration %d:' % t)\n",
    "        print(steps)\n",
    "        break"
   ]
  },
  {
   "cell_type": "code",
   "execution_count": 244,
   "metadata": {},
   "outputs": [],
   "source": [
    "def mc_control_easy21():\n",
    "    \"\"\"\n",
    "    Apply Monte-Carlo control to Easy21.\n",
    "    \n",
    "    Returns:\n",
    "    - q: optimal action-value function, shape (N, M, A)\n",
    "        N is number of possible dealer sums\n",
    "        M is number of possible player sums\n",
    "        A is number of possible actions\n",
    "    \"\"\"\n",
    "    N, M, A = 10, 21, 2\n",
    "\n",
    "    actions = ['hit', 'stick']\n",
    "\n",
    "    # Lookup table for action-value function\n",
    "    q = np.zeros((N, M, A))\n",
    "\n",
    "    N_SA = np.zeros((N, M, A)) # running count of <state, action> pairs encountered\n",
    "    \n",
    "    num_steps = 1000000\n",
    "\n",
    "    for _ in range(num_steps):\n",
    "        # Run an episode following epsilon-greedy policy\n",
    "        steps = run_episode(q)\n",
    "\n",
    "        # Since no discount, return for all steps is reward at end of episode\n",
    "        _, _, Gt, _ = steps[-1]\n",
    "\n",
    "        dq = np.zeros((N, M, A)) # store change in q\n",
    "\n",
    "        # For each <state, action> pair, update action-value function\n",
    "        for step_t in steps:\n",
    "            state, action, _, _ = step_t\n",
    "            dsum, psum = state\n",
    "\n",
    "            # Increment count of <state, action> pair\n",
    "            N_SA[dsum-1, psum-1, actions.index(action)] += 1\n",
    "\n",
    "            # Calculate update for action-value function, will update at end of episode\n",
    "            alpha = 1 / N_SA[dsum-1, psum-1, actions.index(action)]\n",
    "            dq[dsum-1, psum-1, actions.index(action)] = alpha * (Gt - q[dsum-1, psum-1, actions.index(action)])\n",
    "        \n",
    "        # Update action-value function after all updates have been calculated\n",
    "        q += dq\n",
    "    \n",
    "    return q"
   ]
  },
  {
   "cell_type": "code",
   "execution_count": 245,
   "metadata": {
    "scrolled": false
   },
   "outputs": [],
   "source": [
    "q = mc_control_easy21()"
   ]
  },
  {
   "cell_type": "code",
   "execution_count": 234,
   "metadata": {},
   "outputs": [],
   "source": [
    "def plot_optimal_val_fn(q):\n",
    "    \"\"\"\n",
    "    Plot optimal state-value function V* using optimal action-value function Q*.\n",
    "    Specifically, V*(s) = max_a Q*(s, a)\n",
    "    \n",
    "    Inputs:\n",
    "    - q: optimal action-value function, shape (N, M, A)\n",
    "        N is number of possible dealer sums\n",
    "        M is number of possible player sums\n",
    "        A is number of possible actions\n",
    "    \"\"\"\n",
    "    N, M, _ = q.shape\n",
    "    v = np.zeros((N, M))\n",
    "    \n",
    "    n_vals = range(N)\n",
    "    m_vals = range(M)\n",
    "    \n",
    "    for n in n_vals:\n",
    "        for m in m_vals:\n",
    "            v[n, m] = np.amax(q[n, m])\n",
    "    \n",
    "    nn, mm = np.meshgrid(n_vals, m_vals) # Not sure why it switches axes, need to transpose v to plot\n",
    "    \n",
    "    plt.figure(figsize=(8, 6))\n",
    "    ax = plt.axes(projection='3d')\n",
    "    ax.plot_surface(nn, mm, v.T, cmap='bwr')\n",
    "    ax.set_xlabel('Dealer showing')\n",
    "    ax.set_ylabel('Player sum')\n",
    "    ax.set_zlabel('Optimal state-value')"
   ]
  },
  {
   "cell_type": "code",
   "execution_count": 246,
   "metadata": {},
   "outputs": [
    {
     "data": {
      "image/png": "[encoded data removed]",
      "text/plain": [
       "<matplotlib.figure.Figure at 0x7f1a40d237f0>"
      ]
     },
     "metadata": {},
     "output_type": "display_data"
    }
   ],
   "source": [
    "plot_optimal_val_fn(q)"
   ]
  }
 ],
 "metadata": {
  "kernelspec": {
   "display_name": "Python 3",
   "language": "python",
   "name": "python3"
  },
  "language_info": {
   "codemirror_mode": {
    "name": "ipython",
    "version": 3
   },
   "file_extension": ".py",
   "mimetype": "text/x-python",
   "name": "python",
   "nbconvert_exporter": "python",
   "pygments_lexer": "ipython3",
   "version": "3.5.5"
  }
 },
 "nbformat": 4,
 "nbformat_minor": 2
}
